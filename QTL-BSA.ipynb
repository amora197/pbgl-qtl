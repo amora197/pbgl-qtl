{
 "cells": [
  {
   "cell_type": "markdown",
   "id": "d7c15a2f",
   "metadata": {},
   "source": [
    "# Import Necessary Libraries and Functions"
   ]
  },
  {
   "cell_type": "code",
   "execution_count": null,
   "id": "cd4a6cec",
   "metadata": {},
   "outputs": [],
   "source": [
    "from scripts.plot_allele_freqs import *"
   ]
  },
  {
   "cell_type": "markdown",
   "id": "d7ef9e62",
   "metadata": {},
   "source": [
    "# Configuration File Path Definition "
   ]
  },
  {
   "cell_type": "code",
   "execution_count": null,
   "id": "feceaaa2",
   "metadata": {},
   "outputs": [],
   "source": [
    "config = \"config/config-allele-freq.yaml\""
   ]
  },
  {
   "cell_type": "markdown",
   "id": "9e976964",
   "metadata": {},
   "source": [
    "# Plot Allele Frequencies"
   ]
  },
  {
   "cell_type": "code",
   "execution_count": null,
   "id": "a56401bb",
   "metadata": {},
   "outputs": [],
   "source": [
    "plot_allele_frequencies_raw(config)"
   ]
  },
  {
   "cell_type": "code",
   "execution_count": null,
   "id": "b9208b5c",
   "metadata": {},
   "outputs": [],
   "source": [
    "plot_allele_frequencies_weighted(config)"
   ]
  },
  {
   "cell_type": "code",
   "execution_count": null,
   "id": "ddbf1563",
   "metadata": {},
   "outputs": [],
   "source": []
  }
 ],
 "metadata": {
  "kernelspec": {
   "display_name": "Python 3",
   "language": "python",
   "name": "python3"
  },
  "language_info": {
   "codemirror_mode": {
    "name": "ipython",
    "version": 3
   },
   "file_extension": ".py",
   "mimetype": "text/x-python",
   "name": "python",
   "nbconvert_exporter": "python",
   "pygments_lexer": "ipython3",
   "version": "3.6.7"
  }
 },
 "nbformat": 4,
 "nbformat_minor": 5
}
