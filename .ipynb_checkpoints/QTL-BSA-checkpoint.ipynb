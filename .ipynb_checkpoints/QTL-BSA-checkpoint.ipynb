{
 "cells": [
  {
   "cell_type": "markdown",
   "id": "d7c15a2f",
   "metadata": {},
   "source": [
    "# Quantitative Trait Loci - Bulk Segregant Analysis\n",
    "\n",
    "### Import Necessary Libraries and Functions"
   ]
  },
  {
   "cell_type": "code",
   "execution_count": null,
   "id": "cd4a6cec",
   "metadata": {},
   "outputs": [],
   "source": [
    "from scripts.plot_allele_freqs import *"
   ]
  },
  {
   "cell_type": "markdown",
   "id": "d7ef9e62",
   "metadata": {},
   "source": [
    "### Configuration File Path Definition "
   ]
  },
  {
   "cell_type": "code",
   "execution_count": null,
   "id": "feceaaa2",
   "metadata": {},
   "outputs": [],
   "source": [
    "config = \"config/config-allele-freq.yml\""
   ]
  },
  {
   "cell_type": "markdown",
   "id": "9e976964",
   "metadata": {},
   "source": [
    "### Plot Allele Frequencies\n",
    "\n",
    "#### Unweighted Window Sizes"
   ]
  },
  {
   "cell_type": "code",
   "execution_count": null,
   "id": "a56401bb",
   "metadata": {},
   "outputs": [],
   "source": [
    "plot_allele_frequencies_raw(config)"
   ]
  },
  {
   "cell_type": "markdown",
   "id": "59b23ebd",
   "metadata": {},
   "source": [
    "#### Weighted Window Sizes from Configuration File"
   ]
  },
  {
   "cell_type": "code",
   "execution_count": null,
   "id": "ddbf1563",
   "metadata": {},
   "outputs": [],
   "source": [
    "plot_allele_frequencies_weighted(config)"
   ]
  },
  {
   "cell_type": "markdown",
   "id": "55d87d56",
   "metadata": {},
   "source": [
    "#### Weighted Window Sizes Defined in Jupyter Notebook"
   ]
  },
  {
   "cell_type": "code",
   "execution_count": null,
   "id": "298f7a4f",
   "metadata": {},
   "outputs": [],
   "source": [
    "plot_allele_frequencies(config, window_size=500000, step_size=100000)"
   ]
  }
 ],
 "metadata": {
  "kernelspec": {
   "display_name": "Python 3",
   "language": "python",
   "name": "python3"
  },
  "language_info": {
   "codemirror_mode": {
    "name": "ipython",
    "version": 3
   },
   "file_extension": ".py",
   "mimetype": "text/x-python",
   "name": "python",
   "nbconvert_exporter": "python",
   "pygments_lexer": "ipython3",
   "version": "3.6.7"
  }
 },
 "nbformat": 4,
 "nbformat_minor": 5
}
